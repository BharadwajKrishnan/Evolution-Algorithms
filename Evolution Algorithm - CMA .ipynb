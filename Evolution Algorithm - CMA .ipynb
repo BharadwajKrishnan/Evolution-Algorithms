{
 "cells": [
  {
   "cell_type": "markdown",
   "metadata": {},
   "source": [
    "In this tutorial, we will learn about the **CMA-ES** which stands for **Covariance Matrix Adaptation - Evolution Strategy**. \n",
    "\n",
    "Let us assume an equation, <br><center>**z = (x * x) + (y * y) - 10**<center><br>. \n",
    "    \n",
    "Our goal is find the optimum value of 'x' and 'y' such that the values when substitued in the above equation will give us the minimum value for the equation. We have many methods to obtain the values for 'x' and 'y' which gives us the minimum value for the equation. We can use the principle of **Gradients** and find the values for 'x' and 'y' which gives us the minimum value for the above equation. But what if we cannot calculate the gradients for an equation? Calculating gradients for high order equations could sometimes be too complex and error prone. In some cases, gradient information is also not available. So, how can one find the optimal minimum value in such circumstances ? \n",
    "\n",
    "**Evolution Algorithms** helps us to find the optimal minumum in case gradients are not available or too complex to calculate. How does the Evolution algorithm work ? They follow a very simple procedure as described below:\n",
    "\n",
    "**Step 1:** The algorithm provides us with a certain set of **Candidate Solution**. <br>\n",
    "**Step 2:** The candidate solutions provided are evaluted to see how well they perform. Here, we calculate the **Fitness** of these candidate solutions. <br>\n",
    "**Step 3:** We inform the algorithm about the obtained fitness for the candidates provided. <br>\n",
    "**Step 4:** The algorithm provides a new set of **Candidate Solution** which is again evaluated. <br> \n",
    "\n",
    "The above steps (1-4) are repeated until we are satisfied with our results. \n",
    "\n",
    "**Stop Criteria** : We hae different criterias to stop the execution of our evolution algorithm. Some of them are stated below:\n",
    "Criteria 1: We can run the algorithm for a fixed number of iterations (such as 500, 1000, 1500 etc). \n",
    "Criteria 2: We can stop the algorithm once we have achieved a particular fitness score. \n",
    "Criteria 3: We can run the algorithm for a fixed duration (say 24 hours or 48 hours). \n",
    "\n",
    "**Nevergrad** is a python package developed by **Facebook** which provides us with an **ask-tell interface** and offers us several built in evolution algorithms such as CMA-ES."
   ]
  },
  {
   "cell_type": "code",
   "execution_count": 15,
   "metadata": {},
   "outputs": [],
   "source": [
    "# Import the necessary packages\n",
    "import nevergrad\n",
    "import matplotlib.pyplot as plt\n",
    "from nevergrad import instrumentation\n",
    "from nevergrad.optimization import optimizerlib"
   ]
  },
  {
   "cell_type": "code",
   "execution_count": 16,
   "metadata": {},
   "outputs": [],
   "source": [
    "class ParameterTuner(object):\n",
    "    def __init__(self, parameters_dict: dict, algorithm: str):\n",
    "        self.parameters = []\n",
    "        for (key, value) in parameters_dict.items():\n",
    "            # Encapsulates the parameters to be optimized in the variable param\n",
    "            # The parameters are bounded by a 'low' and 'high' value. Our optimum values should lie within this.\n",
    "            # If we do not know the exact range of our parameters, do not bound them. \n",
    "            param = nevergrad.instrumentation.variables.Array(1).asscalar(value['type']).bounded(a_min=value['low'],\n",
    "                                                                                                 a_max=value['high'])\n",
    "            \n",
    "            self.parameters.append(param)\n",
    "            \n",
    "        # The instrum variable is provided to the optimization library. The instrum contains details of our parameters\n",
    "        instrum = nevergrad.instrumentation.Instrumentation(*self.parameters)\n",
    "        \n",
    "        self.optimizer = nevergrad.optimization.registry[algorithm](instrumentation=instrum)\n",
    "        \n",
    "        # Information about the number of times candidates have been suggested\n",
    "        self.number_of_candidates_asked = 0 \n",
    "        \n",
    "        # Stores information of the candidate suggested\n",
    "        self.candidate_asked = None\n",
    "        \n",
    "    # This function returns a candidate solution whose fitness needs to be evaluated\n",
    "    def ask(self):\n",
    "        self.number_of_candidates_asked += 1\n",
    "        \n",
    "        # Ask the algorithm for candidate\n",
    "        candidate = self.optimizer.ask()\n",
    "        \n",
    "        # Store the information of the candidate suggested\n",
    "        self.candidate_asked = candidate\n",
    "        \n",
    "        return self.number_of_candidates_asked\n",
    "    \n",
    "    # This function informs the algorithm about the fitness of a particular candidate\n",
    "    def tell(self, i:int, fitness: float):\n",
    "        # Tell the algorithm about the fitness of the candidate\n",
    "        self.optimizer.tell(self.candidate_asked, fitness)"
   ]
  },
  {
   "cell_type": "markdown",
   "metadata": {},
   "source": [
    "We shall now instantiate the **ParameterTuner** class and specify the range of our parameters 'x' and 'y' in the form of a dictionary."
   ]
  },
  {
   "cell_type": "code",
   "execution_count": 17,
   "metadata": {},
   "outputs": [],
   "source": [
    "# List out the details of our parameters here\n",
    "parameter_dictionary = {\n",
    "    'x': {'low': 0.0, 'high': 10.0, 'type':float},\n",
    "    'y': {'low': -10.0, 'high': 15.0, 'type':float}\n",
    "    }\n",
    "\n",
    "# Instantiate the class\n",
    "tuner = ParameterTuner(parameter_dictionary, 'CMA')"
   ]
  },
  {
   "cell_type": "markdown",
   "metadata": {},
   "source": [
    "We shall now run the algorithm for a fixed number of iterations, say 200 since the equation is very simple. We need to also define an **Objective Function** which will help us to evaluate the fitness of the candidates in each iteration"
   ]
  },
  {
   "cell_type": "code",
   "execution_count": 18,
   "metadata": {},
   "outputs": [
    {
     "name": "stdout",
     "output_type": "stream",
     "text": [
      "(3_w,6)-aCMA-ES (mu_w=2.0,w_1=63%) in dimension 2 (seed=nan, Wed Sep  9 14:42:39 2020)\n",
      "Best Recommended values are =  Candidate(args=(0.17944506846866304, 0.0017951622530603117), kwargs={})\n"
     ]
    },
    {
     "data": {
      "image/png": "[encoded data removed]",
      "text/plain": [
       "<Figure size 432x288 with 1 Axes>"
      ]
     },
     "metadata": {
      "needs_background": "light"
     },
     "output_type": "display_data"
    }
   ],
   "source": [
    "def objective_function(x, y):\n",
    "    return (x*x) + (y*y) - 10\n",
    "\n",
    "Fitness = []\n",
    "for itr in range(1, 200):\n",
    "    # Ask for parameters\n",
    "    candidate_id = tuner.ask()\n",
    "    \n",
    "    # Calculate the fitness \n",
    "    fitness = objective_function(*tuner.candidate_asked.args)\n",
    "    \n",
    "    # Store the fitness in each iteration to view performance\n",
    "    Fitness.append(fitness)\n",
    "    \n",
    "    # Inform the fitness\n",
    "    tuner.tell(candidate_id, fitness)\n",
    "    \n",
    "print(\"Best Recommended values are = \", tuner.optimizer.provide_recommendation())\n",
    "plt.title(\"Fitness in each iteration\")\n",
    "plt.xlabel(\"Iteration Number\")\n",
    "plt.ylabel(\"Fitness\")\n",
    "plt.plot(Fitness)\n",
    "plt.show()"
   ]
  },
  {
   "cell_type": "markdown",
   "metadata": {},
   "source": [
    "As seen in the above plot, we can see how the fitness value converges to the optimal minimum. The results also show that the best candidates for our equation to reach its optimal minimum are '0.00475' and '-0.0024'."
   ]
  },
  {
   "cell_type": "code",
   "execution_count": null,
   "metadata": {},
   "outputs": [],
   "source": []
  }
 ],
 "metadata": {
  "kernelspec": {
   "display_name": "Python 3",
   "language": "python",
   "name": "python3"
  },
  "language_info": {
   "codemirror_mode": {
    "name": "ipython",
    "version": 3
   },
   "file_extension": ".py",
   "mimetype": "text/x-python",
   "name": "python",
   "nbconvert_exporter": "python",
   "pygments_lexer": "ipython3",
   "version": "3.7.3"
  }
 },
 "nbformat": 4,
 "nbformat_minor": 2
}
